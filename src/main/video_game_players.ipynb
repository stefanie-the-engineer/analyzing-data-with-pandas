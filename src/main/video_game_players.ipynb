# SETUP
# Dependencies and Setup
import pandas as pd
import numpy as np

# File to Load (Remember to Change These)
file_to_load = "Resources/purchase_data.csv"

# Read Purchasing File and store into Pandas data frame
purchase_data = pd.read_csv(file_to_load)

# PLAYER COUNT
# Calculates, creates new data frame and prints result to screen
# Retrieve the "SN" column
get_players = purchase_data.loc[:, "SN"]

# Filters out unique values for "SN"
unique_players = get_players.unique()

# Stores results into new Data Frame
unique_player_df = pd.DataFrame(unique_players)

# Calculate the number of unique players
unique_player_count = unique_player_df.count()

# Name the column "Total Players"
unique_player_count_df = pd.DataFrame(unique_player_count, columns = ["Total Players"])

# Prints result 
unique_player_count_df

# PURCHASE ANALYSIS TOTALS
# Calculates the total purchasing analysis
# Get the item name
get_items = purchase_data.loc[:, "Item Name"]
unique_items = get_items.unique()
unique_items_df = pd.DataFrame(unique_items)
unique_item_count = unique_items_df.count()

# Calculate the Average Price
average_price = purchase_data["Price"].mean()

# Calculate the Number of Purchases
purchase_count = len(purchase_data["Purchase ID"])

# Calculate the Total Revenue
total_revenue = purchase_data["Price"].sum()

# Store everything into a Data Frame
totals = pd.DataFrame({"Number of Unique Items": unique_item_count, "Average Price": average_price, 
                       "Number of Purchases": purchase_count, "Total Revenue": total_revenue})

# Format the contents to currency with 2 decimal points
totals["Average Price"] = totals["Average Price"].map("${:,.2f}".format)
totals["Total Revenue"] = totals["Total Revenue"].map("${:,.2f}".format)

# Prints result
totals

# GENDER DEMOGRAPHICS
# Store into Data Frame to "protect" the original Data Frame
gender_demographics = pd.DataFrame(purchase_data)

# Get unique players using "SN" column
gender_demographics_unique = gender_demographics.drop_duplicates("SN")

# Store into new Data Frame
gender_demographics = pd.DataFrame(gender_demographics_unique)

# Get "SN" and "Gender" columns
gender_demographics = gender_demographics.loc[:, ["SN", "Gender"]]

# Do group by using "Gender" column
gender_demographics_groupby = gender_demographics.groupby(["Gender"])

# Calculate percentages
gender_demographics_groupby["Percentage of Players"] = gender_demographics_groupby["Total Count"] / len(gender_demographics_groupby) * 100

# Drop unneeded columns
gender_demographics_groupby.filter(lambda x: x["Price"])
gender_demographics_groupby.filter(lambda x: x["Age"])

# Print result
gender_demographics_groupby.describe()

# PURCHASE ANALYSIS BY GENDER
# Store into Data Frame to "protect" the original Data Frame
purchase_analysis_gender_df = pd.DataFrame(purchase_data)

# Retrieve "Gender" and "SN" columns
purchase_analysis_gender_df = purchase_analysis_gender_df.loc[:, ["Gender", "SN", "Price"]]

# Purchase analysis group by
purchase_analysis_gender_groupby = purchase_analysis_gender_df.groupby("Gender")

# Perform calculations
purchase_analysis_gender_groupby["Purchase Count"] = purchase_analysis_gender_groupby.count()
purchase_analysis_gender_groupby["Average Purchase Price"] = purchase_analysis_gender_groupby["Price"].mean()
purchase_analysis_gender_groupby["Total Purchase Value"] = purchase_analysis_gender_groupby["Purchase Count"] * purchase_analysis_gender_groupby["Price"]
purchase_analysis_gender_groupby["Avg Total Purchase per Person"] = purchase_analysis_gender_groupby["Total Purchase Value"] / purchase_analysis_gender_groupby["Purchase Count"]

# Drop unneeded columns
age_demographics_group.filter(lambda x: x["SN"])
age_demographics_group.filter(lambda x: x["Price"])

# Print Result
purchase_analysis_gender_groupby.describe()

# AGE DEMOGRAPHICS
# Create new Data Frame
age_demographics = pd.DataFrame(purchase_data)

# Create new Data Frame to hold unique values
age_demographics_df = age_demographics.drop_duplicates("SN")

# Retrieve "Age" and "SN" and "Price" columns
age_demographics_df = age_demographics.loc[:, ["SN", "Age", "Price"]]

# Create the bins in which Data will be held
bins = [0, 9, 10, 14, 15, 19, 20, 24, 25, 29, 30, 34, 35, 39, 40, 100]

# Create the names for the bins
group_names = ["<10", "10-14", "15-19", "20-24", "25-29", "30-34", "35-39", "40+"]

# Cut data into the bins
age_demographics_df[""] = pd.cut(age_demographics_df["Age"], bins, labels = group_names)

# Perform group by
age_demographics_group = age_demographics_df.groupby("")

# Perform calculations
age_demographics_group["Total Count"] = age_demographics_group["Age"].count()
age_demographics_group["Percentage of Players"] = age_demographics_group["Total Count"] / len(age_demographics_group) * 100

# Drop unneeded columns
age_demographics_group.filter(lambda x: x["Price"])
age_demographics_group.filter(lambda x: x["Age"])
age_demographics_group.filter(lambda x: x["SN"])

# Print Result
age_demographics_group.describe()

# PURCHASE ANALYSIS BY AGE
# Create new Data Frame
age_demographics_analysis_df = pd.DataFrame(purchase_data)

# Retrieve "Age" and "SN" columns
age_demographics_analysis_df = age_demographics_analysis_df.loc[:, ["SN", "Age", "Price"]]

# Create the bins in which Data will be held
analysis_bins = [0, 9, 10, 14, 15, 19, 20, 24, 25, 29, 30, 34, 35, 39, 40, 100]

# Create the names for the bins
analysis_group_names = ["<10", "10-14", "15-19", "20-24", "25-29", "30-34", "35-39", "40+"]

# Cut data into the bins
age_demographics_analysis_df[""] = pd.cut(age_demographics_analysis_df["Age"], analysis_bins, labels = analysis_group_names)

# Perform group by
age_demographics_analysis_group = age_demographics_analysis_df.groupby("")

# Perform calculations
age_demographics_analysis_group["Purchase Count"] = age_demographics_analysis_group["Age"].count()
age_demographics_analysis_group["Average Purchase Price"] = age_demographics_analysis_group["Price"].mean()
age_demographics_analysis_group["Total Purchase Value"] = age_demographics_analysis_group["Purchase Count"] * age_demographics_analysis_group["Price"]
age_demographics_analysis_group["Avg Total Purchase per Person"] = age_demographics_analysis_group["Total Purchase Value"] / age_demographics_analysis_group["Total Count"]

# Drop unneeded columns
age_demographics_analysis_group.filter(lambda x: x["Age"])
age_demographics_analysis_group.filter(lambda x: x["SN"])
age_demographics_analysis_group.filter(lambda x: x["Price"])

# Print result
age_demographics_analysis_group.describe()

# TOP SPENDERS
# Create method to calculate the total purchase value
def total_value():
    total = 0.0
    for x in top_spenders["Price"]:
        total = total + x
        
# Create new Data Frame to "protect" the original
top_spenders = pd.DataFrame(purchase_data)

# Retrieve needed columns
top_spenders = top_spenders.loc[:, ["SN", "Price"]]

# Perform group by
top_spenders_group = top_spenders.groupby("SN")

# Perform calculations
top_spenders_group["Purchase Count"] = top_spenders_group["SN"].count()
top_spenders_group["Average Purchase Price"] = top_spenders_group["Price"].mean()
top_spenders_group["Total Purchase Value"] = top_spenders_group.total_value()

# Drop unneeded columns
age_demographics_analysis_group.filter(lambda x: x["SN"])
age_demographics_analysis_group.filter(lambda x: x["Price"])

# Sort "Total Purchase Value" column
age_demographics_analysis_group = age_demographics_analysis_group.apply(lambda x: x.order(ascending = False).head(5))

# Print result
top_spenders_group.describe()

# MOST POPULAR ITEMS
# Create new Data Frame to "protect" the original
most_popular_items = pd.DataFrame(purchase_data)

# Retrieve "Item ID", "Item Name" and "Price" columns
most_popular_items = most_popular_items.loc[:, ["Item ID", "Item Name", "Price"]]

# Create Data Frame as stated in directions
most_popular_items_df = pd.DataFrame(most_popular_items)

# Convert group by object to Data Frame
most_popular_items_df = pd.DataFrame({"Purchase Count" : most_popular_items_df.groupby(["Item ID", "Item Name"]).size()}).reset_index()

# Perform calculations
most_popular_items_df["Total Purchase Value"] = most_popular_items_df["Purchase Count"] * most_popular_items_df["Price"]

# Rename "Price" column to "Item Price"
most_popular_items_df = most_popular_items_df.rename({"Price": "Item Price"})

# Move column positions
most_popular_items_df = most_popular_items_df[["Purchase Count", "Item Price", "Total Purchase Value"]]

# Sort by "Purchase Count"
most_popular_items_df = most_popular_items_df.sort_values(by = ["Purchase Count"], ascending = False)

# Print result
most_popular_items_df.head(5)

# MOST PROFITABLE ITEMS
# Sort by "Total Purchase Value"
most_popular_items_df = most_popular_items_df.sort_values(by = ["Total Purchase Value"], ascending = False)

# Print result
most_popular_items_df.head(5)
