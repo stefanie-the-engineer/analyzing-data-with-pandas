# Dependencies and Setup
import pandas as pd
import numpy as np

# File to Load
file_to_load = "../Resources/purchase_data.csv"

# Read Purchasing File and store into Pandas data frame
purchase_data = pd.read_csv(file_to_load)

# Calculates, creates new data frame and prints result to screen
get_players = purchase_data.loc[:, "SN"]
unique_players = get_players.unique()
unique_player_df = pd.DataFrame(unique_players)
unique_player_count = unique_player_df.count()
unique_player_count_df = pd.DataFrame(unique_player_count, columns = ["Total Players"])
unique_player_count_df

# Calculates the total purchasing analysis
# Get the unique items
get_items = purchase_data.loc[:, "Item Name"]
unique_items = get_items.unique()
unique_items_df = pd.DataFrame(unique_items)
unique_item_count = unique_items_df.count()

# Average Price
average_price = purchase_data["Price"].mean()

# Number of Purchases
purchase_count = len(purchase_data["Purchase ID"])

# Total Revenue
total_revenue = purchase_data["Price"].sum()

# Store everything into a Data Frame and print end result
totals = pd.DataFrame({"Number of Unique Items": unique_item_count, "Average Price": average_price, 
                       "Number of Purchases": purchase_count, "Total Revenue": total_revenue})
totals["Average Price"] = totals["Average Price"].map("${:,.2f}".format)
totals["Total Revenue"] = totals["Total Revenue"].map("${:,.2f}".format)
totals

# Calculate the gender demographics - number and percentage of male, female, and non-disclosed

# Calculate the purchasing analysis by gender

# Calculate the age demographics

# Calculate the age purchasing analysis by age

# Calculate the top spenders

# Calculate the most popular video games

# Calculate the most profitable video games