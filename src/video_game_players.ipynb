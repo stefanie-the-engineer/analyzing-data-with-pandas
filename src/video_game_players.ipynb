# SETUP
# Dependencies and Setup
import pandas as pd
import numpy as np

# File to Load (Remember to Change These)
file_to_load = "Resources/purchase_data.csv"

# Read Purchasing File and store into Pandas data frame
purchase_data = pd.read_csv(file_to_load)

# PLAYER COUNT
# Calculates, creates new data frame and prints result to screen
# Retrieve the "SN" column
get_players = purchase_data.loc[:, "SN"]

# Filters out unique values for "SN"
unique_players = get_players.unique()

# Stores results into new Data Frame
unique_player_df = pd.DataFrame(unique_players)

# Calculate the number of unique players
unique_player_count = unique_player_df.count()

# Name the column "Total Players"
unique_player_count_df = pd.DataFrame(unique_player_count, columns = ["Total Players"])

# Prints result 
unique_player_count_df



# PURCHASE ANALYSIS TOTALS
# Calculates the total purchasing analysis
# Get the item name
get_items = purchase_data.loc[:, "Item Name"]
unique_items = get_items.unique()
unique_items_df = pd.DataFrame(unique_items)
unique_item_count = unique_items_df.count()

# Calculate the Average Price
average_price = purchase_data["Price"].mean()

# Calculate the Number of Purchases
purchase_count = len(purchase_data["Purchase ID"])

# Calculate the Total Revenue
total_revenue = purchase_data["Price"].sum()

# Store everything into a Data Frame
totals = pd.DataFrame({"Number of Unique Items": unique_item_count, "Average Price": average_price, 
                       "Number of Purchases": purchase_count, "Total Revenue": total_revenue})

# Format the contents to currency with 2 decimal points
totals["Average Price"] = totals["Average Price"].map("${:,.2f}".format)
totals["Total Revenue"] = totals["Total Revenue"].map("${:,.2f}".format)

# Prints result
totals