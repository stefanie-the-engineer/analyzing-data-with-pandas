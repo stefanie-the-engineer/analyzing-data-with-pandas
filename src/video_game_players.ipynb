# Dependencies and Setup
import pandas as pd
import numpy as np

# File to Load
file_to_load = "../Resources/purchase_data.csv"

# Read Purchasing File and store into Pandas data frame
purchase_data = pd.read_csv(file_to_load)

# Calculate the number of players

# Calculate purchasing analysis - number of unique items, average price, number of purchases, total revenue

# Calculate the gender demographics - number and percentage of male, female, and non-disclosed

# Calculate the purchasing analysis by gender

# Calculate the age demographics

# Calculate the age purchasing analysis by age

# Calculate the top spenders

# Calculate the most popular video games

# Calculate the most profitable video games